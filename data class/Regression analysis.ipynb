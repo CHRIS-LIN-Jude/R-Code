{
 "cells": [
  {
   "cell_type": "markdown",
   "metadata": {},
   "source": [
    "# Predicting Customer Pregnancies with Logistic Regression"
   ]
  },
  {
   "cell_type": "markdown",
   "metadata": {},
   "source": [
    "**迴歸分析**（英語：Regression Analysis）是一種統計學上分析數據的方法，目的在於了解兩個或多個變數間是否相關、相關方向與強度，並建立數學模型以便觀察特定變數來預測研究者感興趣的變數。 更具體的來說，迴歸分析可以幫助人們了解在只有一個自變數變化時因變數的變化量。\n",
    "\n",
    "迴歸分析是建立因變數 $Y$（或稱依變數，反應變數）與自變數 $X$（或稱獨立變數，解釋變數）之間關係的模型。簡單線性回歸使用一個自變量 $X$，複迴歸使用超過一個自變量（$X_{1},X_{2}...X_{i}$）。--- Wikipedia [迴歸分析](https://zh.wikipedia.org/wiki/%E8%BF%B4%E6%AD%B8%E5%88%86%E6%9E%90)\n",
    "\n",
    "**迴歸分析**屬於監督式學習中的一種。\n",
    "\n",
    "**監督式學習**（英語：Supervised learning），是一種機器學習的方法，可以由訓練資料中學到或建立一個模式（函數 / learning model），並依此模式推測新的實例。訓練資料是由輸入物件（通常是向量）和預期輸出所組成。函數的輸出可以是一個連續的值（稱為**迴歸分析**），或是預測一個分類標籤（稱作**分類**）。 --- Wikipedia [監督式學習](https://zh.wikipedia.org/wiki/%E7%9B%A3%E7%9D%A3%E5%BC%8F%E5%AD%B8%E7%BF%92)\n",
    "\n",
    "----\n",
    "\n",
    "本週我們將練習利用簡單線性迴歸與邏輯迴歸（英語：Logistic Regression）進行分類學習。\n",
    "\n",
    "假設你是會員制連鎖大賣場總部的行銷經理，負責嬰兒商品。若能找出可能家中有孕婦的顧客，便能針對潛在目標進行行銷。\n",
    "\n",
    "可預期當顧客為孕婦（或家中有孕婦）時，其購買商品品項可能會與一般家庭不同。而你手上有的資料是會員的商品購買記錄，以及部份會員最近家中是否有孕婦的問卷記錄。（可來自顧客問卷調查，或從已經開始長期購買嬰幼兒紙尿布、奶粉的家庭，觀察其過去期間的購買記錄。）\n",
    "\n",
    "你將利用此資料集，建立模型，來預測未來新顧客的購買記錄是否能透露「顧客是否為孕婦（或家中有孕婦）」。"
   ]
  },
  {
   "cell_type": "markdown",
   "metadata": {},
   "source": [
    "# Model training"
   ]
  },
  {
   "cell_type": "markdown",
   "metadata": {},
   "source": [
    "## Loading training data\n",
    "\n",
    "為了建立迴歸模型，首先必須載入訓練資料集。"
   ]
  },
  {
   "cell_type": "code",
   "execution_count": 372,
   "metadata": {},
   "outputs": [],
   "source": [
    "import pandas as pd"
   ]
  },
  {
   "cell_type": "code",
   "execution_count": 373,
   "metadata": {
    "scrolled": false
   },
   "outputs": [
    {
     "data": {
      "text/plain": [
       "(1000, 17)"
      ]
     },
     "execution_count": 373,
     "metadata": {},
     "output_type": "execute_result"
    }
   ],
   "source": [
    "df = pd.read_csv(\"RetailMart.training.csv\")\n",
    "df.shape"
   ]
  },
  {
   "cell_type": "markdown",
   "metadata": {},
   "source": [
    "資料框的維度看起來是1000X17, 每一欄是一種商品，最後一欄是懷孕與否，注意倒數第二欄是空欄。"
   ]
  },
  {
   "cell_type": "code",
   "execution_count": 374,
   "metadata": {
    "scrolled": false
   },
   "outputs": [
    {
     "data": {
      "text/html": [
       "<div>\n",
       "<style scoped>\n",
       "    .dataframe tbody tr th:only-of-type {\n",
       "        vertical-align: middle;\n",
       "    }\n",
       "\n",
       "    .dataframe tbody tr th {\n",
       "        vertical-align: top;\n",
       "    }\n",
       "\n",
       "    .dataframe thead th {\n",
       "        text-align: right;\n",
       "    }\n",
       "</style>\n",
       "<table border=\"1\" class=\"dataframe\">\n",
       "  <thead>\n",
       "    <tr style=\"text-align: right;\">\n",
       "      <th></th>\n",
       "      <th>Pregnancy Test</th>\n",
       "      <th>Birth Control</th>\n",
       "      <th>Feminine Hygiene</th>\n",
       "      <th>Folic Acid</th>\n",
       "      <th>Prenatal Vitamins</th>\n",
       "      <th>Prenatal Yoga</th>\n",
       "      <th>Body Pillow</th>\n",
       "      <th>Ginger Ale</th>\n",
       "      <th>Sea Bands</th>\n",
       "      <th>Stopped buying ciggies</th>\n",
       "      <th>Cigarettes</th>\n",
       "      <th>Smoking Cessation</th>\n",
       "      <th>Stopped buying wine</th>\n",
       "      <th>Wine</th>\n",
       "      <th>Maternity Clothes</th>\n",
       "      <th>Unnamed: 15</th>\n",
       "      <th>PREGNANT</th>\n",
       "    </tr>\n",
       "  </thead>\n",
       "  <tbody>\n",
       "    <tr>\n",
       "      <th>0</th>\n",
       "      <td>1</td>\n",
       "      <td>0</td>\n",
       "      <td>0</td>\n",
       "      <td>0</td>\n",
       "      <td>1</td>\n",
       "      <td>0</td>\n",
       "      <td>0</td>\n",
       "      <td>0</td>\n",
       "      <td>0</td>\n",
       "      <td>0</td>\n",
       "      <td>0</td>\n",
       "      <td>0</td>\n",
       "      <td>0</td>\n",
       "      <td>0</td>\n",
       "      <td>0</td>\n",
       "      <td>NaN</td>\n",
       "      <td>1</td>\n",
       "    </tr>\n",
       "    <tr>\n",
       "      <th>1</th>\n",
       "      <td>1</td>\n",
       "      <td>0</td>\n",
       "      <td>0</td>\n",
       "      <td>0</td>\n",
       "      <td>1</td>\n",
       "      <td>0</td>\n",
       "      <td>0</td>\n",
       "      <td>0</td>\n",
       "      <td>0</td>\n",
       "      <td>0</td>\n",
       "      <td>0</td>\n",
       "      <td>0</td>\n",
       "      <td>0</td>\n",
       "      <td>0</td>\n",
       "      <td>0</td>\n",
       "      <td>NaN</td>\n",
       "      <td>1</td>\n",
       "    </tr>\n",
       "    <tr>\n",
       "      <th>2</th>\n",
       "      <td>1</td>\n",
       "      <td>0</td>\n",
       "      <td>0</td>\n",
       "      <td>0</td>\n",
       "      <td>0</td>\n",
       "      <td>0</td>\n",
       "      <td>0</td>\n",
       "      <td>0</td>\n",
       "      <td>1</td>\n",
       "      <td>0</td>\n",
       "      <td>0</td>\n",
       "      <td>0</td>\n",
       "      <td>0</td>\n",
       "      <td>0</td>\n",
       "      <td>0</td>\n",
       "      <td>NaN</td>\n",
       "      <td>1</td>\n",
       "    </tr>\n",
       "    <tr>\n",
       "      <th>3</th>\n",
       "      <td>0</td>\n",
       "      <td>0</td>\n",
       "      <td>0</td>\n",
       "      <td>0</td>\n",
       "      <td>0</td>\n",
       "      <td>0</td>\n",
       "      <td>0</td>\n",
       "      <td>1</td>\n",
       "      <td>0</td>\n",
       "      <td>0</td>\n",
       "      <td>0</td>\n",
       "      <td>0</td>\n",
       "      <td>0</td>\n",
       "      <td>0</td>\n",
       "      <td>0</td>\n",
       "      <td>NaN</td>\n",
       "      <td>1</td>\n",
       "    </tr>\n",
       "    <tr>\n",
       "      <th>4</th>\n",
       "      <td>0</td>\n",
       "      <td>0</td>\n",
       "      <td>0</td>\n",
       "      <td>0</td>\n",
       "      <td>0</td>\n",
       "      <td>1</td>\n",
       "      <td>0</td>\n",
       "      <td>0</td>\n",
       "      <td>0</td>\n",
       "      <td>0</td>\n",
       "      <td>0</td>\n",
       "      <td>0</td>\n",
       "      <td>1</td>\n",
       "      <td>0</td>\n",
       "      <td>0</td>\n",
       "      <td>NaN</td>\n",
       "      <td>1</td>\n",
       "    </tr>\n",
       "  </tbody>\n",
       "</table>\n",
       "</div>"
      ],
      "text/plain": [
       "   Pregnancy Test  Birth Control  Feminine Hygiene  Folic Acid  \\\n",
       "0               1              0                 0           0   \n",
       "1               1              0                 0           0   \n",
       "2               1              0                 0           0   \n",
       "3               0              0                 0           0   \n",
       "4               0              0                 0           0   \n",
       "\n",
       "   Prenatal Vitamins  Prenatal Yoga  Body Pillow  Ginger Ale  Sea Bands  \\\n",
       "0                  1              0            0           0          0   \n",
       "1                  1              0            0           0          0   \n",
       "2                  0              0            0           0          1   \n",
       "3                  0              0            0           1          0   \n",
       "4                  0              1            0           0          0   \n",
       "\n",
       "   Stopped buying ciggies  Cigarettes  Smoking Cessation  Stopped buying wine  \\\n",
       "0                       0           0                  0                    0   \n",
       "1                       0           0                  0                    0   \n",
       "2                       0           0                  0                    0   \n",
       "3                       0           0                  0                    0   \n",
       "4                       0           0                  0                    1   \n",
       "\n",
       "   Wine  Maternity Clothes  Unnamed: 15  PREGNANT  \n",
       "0     0                  0          NaN         1  \n",
       "1     0                  0          NaN         1  \n",
       "2     0                  0          NaN         1  \n",
       "3     0                  0          NaN         1  \n",
       "4     0                  0          NaN         1  "
      ]
     },
     "execution_count": 374,
     "metadata": {},
     "output_type": "execute_result"
    }
   ],
   "source": [
    "df.head()"
   ]
  },
  {
   "cell_type": "markdown",
   "metadata": {},
   "source": [
    "我們選取15項商品作為特徵(features)，懷孕與否作為反應變數。"
   ]
  },
  {
   "cell_type": "code",
   "execution_count": 375,
   "metadata": {},
   "outputs": [],
   "source": [
    "X = df.iloc[:,:-2]  # 15 features\n",
    "y = df.PREGNANT     # 1 response variable"
   ]
  },
  {
   "cell_type": "markdown",
   "metadata": {},
   "source": [
    "## Model fitting with scikit-learn\n",
    "\n",
    "我們可以利用scikit-learn套件中的linear model模組進行迴歸分析。(http://scikit-learn.org/stable/modules/classes.html#module-sklearn.linear_model)"
   ]
  },
  {
   "cell_type": "code",
   "execution_count": 376,
   "metadata": {},
   "outputs": [],
   "source": [
    "from sklearn import linear_model"
   ]
  },
  {
   "cell_type": "code",
   "execution_count": 401,
   "metadata": {},
   "outputs": [
    {
     "data": {
      "text/plain": [
       "'R-squared: 0.452'"
      ]
     },
     "execution_count": 401,
     "metadata": {},
     "output_type": "execute_result"
    }
   ],
   "source": [
    "# Create linear regression object\n",
    "regr = linear_model.LinearRegression()\n",
    "\n",
    "# Train the model using the training sets\n",
    "regr.fit(X, y)\n",
    "\n",
    "# The coefficient of determination R^2\n",
    "\"R-squared: %.3f\" % regr.score(X, y)"
   ]
  },
  {
   "cell_type": "markdown",
   "metadata": {},
   "source": [
    "由訓練出來的模型中的迴歸係數，可看出哪些特徵具有很強的預測力："
   ]
  },
  {
   "cell_type": "code",
   "execution_count": 402,
   "metadata": {},
   "outputs": [
    {
     "data": {
      "text/plain": [
       "<matplotlib.axes._subplots.AxesSubplot at 0x10dd795fac8>"
      ]
     },
     "execution_count": 402,
     "metadata": {},
     "output_type": "execute_result"
    },
    {
     "data": {
      "image/png": "[encoded data removed]",
      "text/plain": [
       "<matplotlib.figure.Figure at 0x10dd78a87f0>"
      ]
     },
     "metadata": {},
     "output_type": "display_data"
    }
   ],
   "source": [
    "# The coefficients\n",
    "coef = pd.Series(data=regr.coef_.ravel(), index=X.columns).sort_values(ascending=False)\n",
    "coef.plot(kind='bar')"
   ]
  },
  {
   "cell_type": "markdown",
   "metadata": {},
   "source": [
    "## Model fitting with statsmodels\n",
    "\n",
    "註：使用statsmodels套件可以得到更詳細的統計結果。\n",
    "\n",
    "To install this package with conda run: `conda install -c statsmodels statsmodels`"
   ]
  },
  {
   "cell_type": "code",
   "execution_count": 403,
   "metadata": {
    "scrolled": true
   },
   "outputs": [
    {
     "name": "stdout",
     "output_type": "stream",
     "text": [
      "                            OLS Regression Results                            \n",
      "==============================================================================\n",
      "Dep. Variable:               PREGNANT   R-squared:                       0.452\n",
      "Model:                            OLS   Adj. R-squared:                  0.443\n",
      "Method:                 Least Squares   F-statistic:                     54.07\n",
      "Date:                Mon, 09 Apr 2018   Prob (F-statistic):          3.66e-117\n",
      "Time:                        04:52:39   Log-Likelihood:                -425.22\n",
      "No. Observations:                1000   AIC:                             882.4\n",
      "Df Residuals:                     984   BIC:                             961.0\n",
      "Df Model:                          15                                         \n",
      "Covariance Type:            nonrobust                                         \n",
      "==========================================================================================\n",
      "                             coef    std err          t      P>|t|      [0.025      0.975]\n",
      "------------------------------------------------------------------------------------------\n",
      "const                      0.4137      0.019     21.842      0.000       0.377       0.451\n",
      "Pregnancy Test             0.2181      0.047      4.685      0.000       0.127       0.309\n",
      "Birth Control             -0.2745      0.035     -7.917      0.000      -0.343      -0.206\n",
      "Feminine Hygiene          -0.2451      0.034     -7.136      0.000      -0.312      -0.178\n",
      "Folic Acid                 0.3441      0.039      8.768      0.000       0.267       0.421\n",
      "Prenatal Vitamins          0.2981      0.036      8.252      0.000       0.227       0.369\n",
      "Prenatal Yoga              0.3189      0.089      3.564      0.000       0.143       0.495\n",
      "Body Pillow                0.1845      0.089      2.064      0.039       0.009       0.360\n",
      "Ginger Ale                 0.2261      0.047      4.804      0.000       0.134       0.318\n",
      "Sea Bands                  0.1404      0.070      2.007      0.045       0.003       0.278\n",
      "Stopped buying ciggies     0.1598      0.042      3.822      0.000       0.078       0.242\n",
      "Cigarettes                -0.1649      0.040     -4.080      0.000      -0.244      -0.086\n",
      "Smoking Cessation          0.1657      0.052      3.212      0.001       0.064       0.267\n",
      "Stopped buying wine        0.1911      0.036      5.309      0.000       0.120       0.262\n",
      "Wine                      -0.2077      0.037     -5.649      0.000      -0.280      -0.136\n",
      "Maternity Clothes          0.2405      0.036      6.716      0.000       0.170       0.311\n",
      "==============================================================================\n",
      "Omnibus:                      115.273   Durbin-Watson:                   0.912\n",
      "Prob(Omnibus):                  0.000   Jarque-Bera (JB):               37.149\n",
      "Skew:                           0.191   Prob(JB):                     8.58e-09\n",
      "Kurtosis:                       2.137   Cond. No.                         8.32\n",
      "==============================================================================\n",
      "\n",
      "Warnings:\n",
      "[1] Standard Errors assume that the covariance matrix of the errors is correctly specified.\n"
     ]
    }
   ],
   "source": [
    "import statsmodels.api as sm\n",
    "from scipy import stats\n",
    "stats.chisqprob = lambda chisq, df: stats.chi2.sf(chisq, df)\n",
    "\n",
    "X2 = sm.add_constant(X)\n",
    "est = sm.OLS(y, X2)\n",
    "est2 = est.fit()\n",
    "print(est2.summary())"
   ]
  },
  {
   "cell_type": "markdown",
   "metadata": {},
   "source": [
    "# Model testing\n",
    "\n",
    "## Loading testing data\n",
    "\n",
    "迴歸模型建立後，便可載入測試資料實際預測看看此模型表現如何。"
   ]
  },
  {
   "cell_type": "code",
   "execution_count": 404,
   "metadata": {},
   "outputs": [
    {
     "data": {
      "text/plain": [
       "(1000, 17)"
      ]
     },
     "execution_count": 404,
     "metadata": {},
     "output_type": "execute_result"
    }
   ],
   "source": [
    "df2 = pd.read_csv(\"RetailMart.testing.csv\")\n",
    "df2.shape"
   ]
  },
  {
   "cell_type": "code",
   "execution_count": 405,
   "metadata": {
    "scrolled": true
   },
   "outputs": [
    {
     "data": {
      "text/html": [
       "<div>\n",
       "<style scoped>\n",
       "    .dataframe tbody tr th:only-of-type {\n",
       "        vertical-align: middle;\n",
       "    }\n",
       "\n",
       "    .dataframe tbody tr th {\n",
       "        vertical-align: top;\n",
       "    }\n",
       "\n",
       "    .dataframe thead th {\n",
       "        text-align: right;\n",
       "    }\n",
       "</style>\n",
       "<table border=\"1\" class=\"dataframe\">\n",
       "  <thead>\n",
       "    <tr style=\"text-align: right;\">\n",
       "      <th></th>\n",
       "      <th>Pregnancy Test</th>\n",
       "      <th>Birth Control</th>\n",
       "      <th>Feminine Hygiene</th>\n",
       "      <th>Folic Acid</th>\n",
       "      <th>Prenatal Vitamins</th>\n",
       "      <th>Prenatal Yoga</th>\n",
       "      <th>Body Pillow</th>\n",
       "      <th>Ginger Ale</th>\n",
       "      <th>Sea Bands</th>\n",
       "      <th>Stopped buying ciggies</th>\n",
       "      <th>Cigarettes</th>\n",
       "      <th>Smoking Cessation</th>\n",
       "      <th>Stopped buying wine</th>\n",
       "      <th>Wine</th>\n",
       "      <th>Maternity Clothes</th>\n",
       "      <th>Unnamed: 15</th>\n",
       "      <th>PREGNANT</th>\n",
       "    </tr>\n",
       "  </thead>\n",
       "  <tbody>\n",
       "    <tr>\n",
       "      <th>0</th>\n",
       "      <td>0</td>\n",
       "      <td>0</td>\n",
       "      <td>0</td>\n",
       "      <td>0</td>\n",
       "      <td>0</td>\n",
       "      <td>0</td>\n",
       "      <td>0</td>\n",
       "      <td>0</td>\n",
       "      <td>1</td>\n",
       "      <td>0</td>\n",
       "      <td>0</td>\n",
       "      <td>0</td>\n",
       "      <td>1</td>\n",
       "      <td>1</td>\n",
       "      <td>0</td>\n",
       "      <td>NaN</td>\n",
       "      <td>1</td>\n",
       "    </tr>\n",
       "    <tr>\n",
       "      <th>1</th>\n",
       "      <td>0</td>\n",
       "      <td>0</td>\n",
       "      <td>0</td>\n",
       "      <td>0</td>\n",
       "      <td>0</td>\n",
       "      <td>0</td>\n",
       "      <td>0</td>\n",
       "      <td>0</td>\n",
       "      <td>0</td>\n",
       "      <td>0</td>\n",
       "      <td>0</td>\n",
       "      <td>0</td>\n",
       "      <td>0</td>\n",
       "      <td>0</td>\n",
       "      <td>0</td>\n",
       "      <td>NaN</td>\n",
       "      <td>1</td>\n",
       "    </tr>\n",
       "    <tr>\n",
       "      <th>2</th>\n",
       "      <td>0</td>\n",
       "      <td>0</td>\n",
       "      <td>0</td>\n",
       "      <td>0</td>\n",
       "      <td>0</td>\n",
       "      <td>0</td>\n",
       "      <td>0</td>\n",
       "      <td>0</td>\n",
       "      <td>0</td>\n",
       "      <td>1</td>\n",
       "      <td>0</td>\n",
       "      <td>0</td>\n",
       "      <td>0</td>\n",
       "      <td>0</td>\n",
       "      <td>0</td>\n",
       "      <td>NaN</td>\n",
       "      <td>1</td>\n",
       "    </tr>\n",
       "    <tr>\n",
       "      <th>3</th>\n",
       "      <td>0</td>\n",
       "      <td>0</td>\n",
       "      <td>0</td>\n",
       "      <td>0</td>\n",
       "      <td>0</td>\n",
       "      <td>0</td>\n",
       "      <td>0</td>\n",
       "      <td>0</td>\n",
       "      <td>0</td>\n",
       "      <td>0</td>\n",
       "      <td>0</td>\n",
       "      <td>0</td>\n",
       "      <td>1</td>\n",
       "      <td>0</td>\n",
       "      <td>0</td>\n",
       "      <td>NaN</td>\n",
       "      <td>1</td>\n",
       "    </tr>\n",
       "    <tr>\n",
       "      <th>4</th>\n",
       "      <td>0</td>\n",
       "      <td>0</td>\n",
       "      <td>0</td>\n",
       "      <td>0</td>\n",
       "      <td>0</td>\n",
       "      <td>0</td>\n",
       "      <td>0</td>\n",
       "      <td>0</td>\n",
       "      <td>0</td>\n",
       "      <td>0</td>\n",
       "      <td>0</td>\n",
       "      <td>0</td>\n",
       "      <td>0</td>\n",
       "      <td>0</td>\n",
       "      <td>0</td>\n",
       "      <td>NaN</td>\n",
       "      <td>1</td>\n",
       "    </tr>\n",
       "  </tbody>\n",
       "</table>\n",
       "</div>"
      ],
      "text/plain": [
       "   Pregnancy Test  Birth Control  Feminine Hygiene  Folic Acid  \\\n",
       "0               0              0                 0           0   \n",
       "1               0              0                 0           0   \n",
       "2               0              0                 0           0   \n",
       "3               0              0                 0           0   \n",
       "4               0              0                 0           0   \n",
       "\n",
       "   Prenatal Vitamins  Prenatal Yoga  Body Pillow  Ginger Ale  Sea Bands  \\\n",
       "0                  0              0            0           0          1   \n",
       "1                  0              0            0           0          0   \n",
       "2                  0              0            0           0          0   \n",
       "3                  0              0            0           0          0   \n",
       "4                  0              0            0           0          0   \n",
       "\n",
       "   Stopped buying ciggies  Cigarettes  Smoking Cessation  Stopped buying wine  \\\n",
       "0                       0           0                  0                    1   \n",
       "1                       0           0                  0                    0   \n",
       "2                       1           0                  0                    0   \n",
       "3                       0           0                  0                    1   \n",
       "4                       0           0                  0                    0   \n",
       "\n",
       "   Wine  Maternity Clothes  Unnamed: 15  PREGNANT  \n",
       "0     1                  0          NaN         1  \n",
       "1     0                  0          NaN         1  \n",
       "2     0                  0          NaN         1  \n",
       "3     0                  0          NaN         1  \n",
       "4     0                  0          NaN         1  "
      ]
     },
     "execution_count": 405,
     "metadata": {},
     "output_type": "execute_result"
    }
   ],
   "source": [
    "df2.head()"
   ]
  },
  {
   "cell_type": "code",
   "execution_count": 406,
   "metadata": {},
   "outputs": [],
   "source": [
    "X_test = df2.iloc[:,:-2]  # 15 features\n",
    "y_test = df2.PREGNANT.values     # 1 response variable"
   ]
  },
  {
   "cell_type": "markdown",
   "metadata": {},
   "source": [
    "## Prediction with scikit-learn\n",
    "\n",
    "以之前訓練好的模型，套用至新的測試資料上進行預測，得到預測答案y_pred."
   ]
  },
  {
   "cell_type": "code",
   "execution_count": 407,
   "metadata": {},
   "outputs": [],
   "source": [
    "import sklearn.metrics"
   ]
  },
  {
   "cell_type": "code",
   "execution_count": 408,
   "metadata": {},
   "outputs": [
    {
     "name": "stdout",
     "output_type": "stream",
     "text": [
      "Mean squared error: 0.13\n",
      "Variance score: -1.23\n"
     ]
    }
   ],
   "source": [
    "# Make predictions using the testing set\n",
    "y_pred = regr.predict(X_test)\n",
    "\n",
    "# The mean squared error\n",
    "print(\"Mean squared error: %.2f\" % sklearn.metrics.mean_squared_error(y_test, y_pred))\n",
    "\n",
    "# Explained variance score: 1 is perfect prediction\n",
    "print('Variance score: %.2f' % sklearn.metrics.r2_score(y_test, y_pred))"
   ]
  },
  {
   "cell_type": "markdown",
   "metadata": {},
   "source": [
    "## ROC Curve\n",
    "\n",
    "以ROC Curve判斷預測結果是否良好。\n",
    "\n",
    "“A receiver operating characteristic (ROC), or simply ROC curve, is a graphical plot which illustrates the performance of a binary classifier system as its discrimination threshold is varied. It is created by plotting the fraction of true positives out of the positives (TPR = true positive rate) vs. the fraction of false positives out of the negatives (FPR = false positive rate), at various threshold settings. TPR is also known as sensitivity, and FPR is one minus the specificity or true negative rate.” --- [Wikipedia](https://en.wikipedia.org/wiki/Receiver_operating_characteristic)\n",
    "\n",
    "The `roc_auc_score` function computes the area under the ROC curve, which is also denoted by AUC or AUROC. By computing the area under the roc curve, the curve information is summarized in one number. "
   ]
  },
  {
   "cell_type": "code",
   "execution_count": 409,
   "metadata": {},
   "outputs": [],
   "source": [
    "from sklearn.metrics import roc_curve, roc_auc_score\n",
    "import matplotlib.pyplot as plt\n",
    "\n",
    "def draw_ROC_curve(y_test, y_pred):\n",
    "    fpr, tpr, _ = roc_curve(y_test, y_pred)\n",
    "    auc = roc_auc_score(y_test, y_pred)\n",
    "    \n",
    "    plt.plot(fpr, tpr, 'b', label = 'AUC = %0.2f' % auc)\n",
    "    plt.plot([0, 1], [0, 1], 'k--')\n",
    "    plt.xlabel('False positive rate')\n",
    "    plt.ylabel('True positive rate')\n",
    "    plt.title('ROC curve')\n",
    "    plt.legend(loc = 'lower right')\n",
    "    plt.gca().set_aspect('equal', 'box')\n",
    "    \n",
    "    return auc"
   ]
  },
  {
   "cell_type": "code",
   "execution_count": 410,
   "metadata": {},
   "outputs": [
    {
     "data": {
      "image/png": "[encoded data removed]",
      "text/plain": [
       "<matplotlib.figure.Figure at 0x10dd7d4f780>"
      ]
     },
     "metadata": {},
     "output_type": "display_data"
    }
   ],
   "source": [
    "auc = draw_ROC_curve(y_test, y_pred)"
   ]
  },
  {
   "cell_type": "markdown",
   "metadata": {},
   "source": [
    "# Questions\n",
    "\n",
    "請改用Logistic Regression建立分類預測模型, 在同一組測試資料集下，分類預測的AUC為何？若輸出改為預測機率(`predict_proba`)其AUC又為何？\n",
    "\n",
    "若有一名新顧客來店裡消費，只買了葉酸(Folic Acid)與孕婦維他命(Prenatal Vitamins), 她被認為是孕婦的機率有多高？\n",
    "\n",
    "Hint: Check http://scikit-learn.org/stable/modules/generated/sklearn.linear_model.LogisticRegression.html\n",
    "\n",
    "**Bonus:** 自由發揮設計新模型（不限於迴歸模型），以挑戰得到超過 AUC>0.9 的表現。解釋你的作法並說明該模型的優點。"
   ]
  }
 ],
 "metadata": {
  "kernelspec": {
   "display_name": "Python 3",
   "language": "python",
   "name": "python3"
  },
  "language_info": {
   "codemirror_mode": {
    "name": "ipython",
    "version": 3
   },
   "file_extension": ".py",
   "mimetype": "text/x-python",
   "name": "python",
   "nbconvert_exporter": "python",
   "pygments_lexer": "ipython3",
   "version": "3.6.4"
  }
 },
 "nbformat": 4,
 "nbformat_minor": 2
}
